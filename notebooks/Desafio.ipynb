{
 "cells": [
  {
   "cell_type": "markdown",
   "id": "928e13f6-aa92-410d-918c-987fb766d7fc",
   "metadata": {},
   "source": [
    "Importando bibliotecas necessárias "
   ]
  },
  {
   "cell_type": "code",
   "execution_count": 1,
   "id": "b533675b-6d13-4b39-86a1-0c39cb2132e3",
   "metadata": {
    "tags": []
   },
   "outputs": [],
   "source": [
    "from pyspark.sql import SparkSession\n",
    "from pyspark.sql.functions import regexp_replace, col, lower\n",
    "from pyspark.sql import functions as fn\n",
    "import requests\n",
    "import zipfile\n",
    "import urllib3\n",
    "urllib3.disable_warnings(urllib3.exceptions.InsecureRequestWarning)\n"
   ]
  },
  {
   "cell_type": "markdown",
   "id": "a87c5c7c-b521-4a86-ac08-74de0efbac83",
   "metadata": {},
   "source": [
    "Iniciando e configurando a sparkSession "
   ]
  },
  {
   "cell_type": "code",
   "execution_count": 2,
   "id": "e28390ca-330c-4927-9e8d-b7b5f9013cc6",
   "metadata": {
    "tags": []
   },
   "outputs": [],
   "source": [
    "\n",
    "spark = SparkSession.builder.getOrCreate()\n",
    "spark.conf.set(\"spark.sql.repl.eagerEval.enabled\", True)\n",
    "spark.conf.set(\"spark.sql.execution.arrow.enabled\", True)"
   ]
  },
  {
   "cell_type": "markdown",
   "id": "9dc26c9c-fe88-45cc-8bd1-e3c54b02dd26",
   "metadata": {},
   "source": [
    "Fazendo o request da base de dados publica e descompactando os arquivos"
   ]
  },
  {
   "cell_type": "code",
   "execution_count": 3,
   "id": "db243f4c-cc9a-4961-b6e1-1bb6e6f8735c",
   "metadata": {
    "tags": []
   },
   "outputs": [],
   "source": [
    "request = requests.get('https://download.inep.gov.br/microdados/microdados_censo_da_educacao_superior_2021.zip', verify = False)\n",
    "with open('../data/microdados.zip', 'wb') as f:\n",
    "    f.write(request.content)\n",
    "with zipfile.ZipFile('../data/microdados.zip', 'r') as zip_ref:\n",
    "    zip_ref.extractall('../data')"
   ]
  },
  {
   "cell_type": "markdown",
   "id": "c9abc0e8-93e8-4043-893f-6a6fe983dd14",
   "metadata": {},
   "source": [
    "Lendo os arquivo em csv"
   ]
  },
  {
   "cell_type": "code",
   "execution_count": 4,
   "id": "4bf45d35-cdab-4607-a78b-d056c6fb6ca5",
   "metadata": {
    "tags": []
   },
   "outputs": [
    {
     "name": "stdout",
     "output_type": "stream",
     "text": [
      "root\n",
      " |-- NU_ANO_CENSO: integer (nullable = true)\n",
      " |-- NO_REGIAO_IES: string (nullable = true)\n",
      " |-- CO_REGIAO_IES: integer (nullable = true)\n",
      " |-- NO_UF_IES: string (nullable = true)\n",
      " |-- SG_UF_IES: string (nullable = true)\n",
      " |-- CO_UF_IES: integer (nullable = true)\n",
      " |-- NO_MUNICIPIO_IES: string (nullable = true)\n",
      " |-- CO_MUNICIPIO_IES: integer (nullable = true)\n",
      " |-- IN_CAPITAL_IES: integer (nullable = true)\n",
      " |-- NO_MESORREGIAO_IES: string (nullable = true)\n",
      " |-- CO_MESORREGIAO_IES: integer (nullable = true)\n",
      " |-- NO_MICRORREGIAO_IES: string (nullable = true)\n",
      " |-- CO_MICRORREGIAO_IES: integer (nullable = true)\n",
      " |-- TP_ORGANIZACAO_ACADEMICA: integer (nullable = true)\n",
      " |-- TP_CATEGORIA_ADMINISTRATIVA: integer (nullable = true)\n",
      " |-- NO_MANTENEDORA: string (nullable = true)\n",
      " |-- CO_MANTENEDORA: integer (nullable = true)\n",
      " |-- CO_IES: integer (nullable = true)\n",
      " |-- NO_IES: string (nullable = true)\n",
      " |-- SG_IES: string (nullable = true)\n",
      " |-- DS_ENDERECO_IES: string (nullable = true)\n",
      " |-- DS_NUMERO_ENDERECO_IES: string (nullable = true)\n",
      " |-- DS_COMPLEMENTO_ENDERECO_IES: string (nullable = true)\n",
      " |-- NO_BAIRRO_IES: string (nullable = true)\n",
      " |-- NU_CEP_IES: integer (nullable = true)\n",
      " |-- QT_TEC_TOTAL: integer (nullable = true)\n",
      " |-- QT_TEC_FUNDAMENTAL_INCOMP_FEM: integer (nullable = true)\n",
      " |-- QT_TEC_FUNDAMENTAL_INCOMP_MASC: integer (nullable = true)\n",
      " |-- QT_TEC_FUNDAMENTAL_COMP_FEM: integer (nullable = true)\n",
      " |-- QT_TEC_FUNDAMENTAL_COMP_MASC: integer (nullable = true)\n",
      " |-- QT_TEC_MEDIO_FEM: integer (nullable = true)\n",
      " |-- QT_TEC_MEDIO_MASC: integer (nullable = true)\n",
      " |-- QT_TEC_SUPERIOR_FEM: integer (nullable = true)\n",
      " |-- QT_TEC_SUPERIOR_MASC: integer (nullable = true)\n",
      " |-- QT_TEC_ESPECIALIZACAO_FEM: integer (nullable = true)\n",
      " |-- QT_TEC_ESPECIALIZACAO_MASC: integer (nullable = true)\n",
      " |-- QT_TEC_MESTRADO_FEM: integer (nullable = true)\n",
      " |-- QT_TEC_MESTRADO_MASC: integer (nullable = true)\n",
      " |-- QT_TEC_DOUTORADO_FEM: integer (nullable = true)\n",
      " |-- QT_TEC_DOUTORADO_MASC: integer (nullable = true)\n",
      " |-- IN_ACESSO_PORTAL_CAPES: integer (nullable = true)\n",
      " |-- IN_ACESSO_OUTRAS_BASES: integer (nullable = true)\n",
      " |-- IN_ASSINA_OUTRA_BASE: integer (nullable = true)\n",
      " |-- IN_REPOSITORIO_INSTITUCIONAL: integer (nullable = true)\n",
      " |-- IN_BUSCA_INTEGRADA: integer (nullable = true)\n",
      " |-- IN_SERVICO_INTERNET: integer (nullable = true)\n",
      " |-- IN_PARTICIPA_REDE_SOCIAL: integer (nullable = true)\n",
      " |-- IN_CATALOGO_ONLINE: integer (nullable = true)\n",
      " |-- QT_PERIODICO_ELETRONICO: integer (nullable = true)\n",
      " |-- QT_LIVRO_ELETRONICO: integer (nullable = true)\n",
      " |-- QT_DOC_TOTAL: integer (nullable = true)\n",
      " |-- QT_DOC_EXE: integer (nullable = true)\n",
      " |-- QT_DOC_EX_FEMI: integer (nullable = true)\n",
      " |-- QT_DOC_EX_MASC: integer (nullable = true)\n",
      " |-- QT_DOC_EX_SEM_GRAD: integer (nullable = true)\n",
      " |-- QT_DOC_EX_GRAD: integer (nullable = true)\n",
      " |-- QT_DOC_EX_ESP: integer (nullable = true)\n",
      " |-- QT_DOC_EX_MEST: integer (nullable = true)\n",
      " |-- QT_DOC_EX_DOUT: integer (nullable = true)\n",
      " |-- QT_DOC_EX_INT: integer (nullable = true)\n",
      " |-- QT_DOC_EX_INT_DE: integer (nullable = true)\n",
      " |-- QT_DOC_EX_INT_SEM_DE: integer (nullable = true)\n",
      " |-- QT_DOC_EX_PARC: integer (nullable = true)\n",
      " |-- QT_DOC_EX_HOR: integer (nullable = true)\n",
      " |-- QT_DOC_EX_0_29: integer (nullable = true)\n",
      " |-- QT_DOC_EX_30_34: integer (nullable = true)\n",
      " |-- QT_DOC_EX_35_39: integer (nullable = true)\n",
      " |-- QT_DOC_EX_40_44: integer (nullable = true)\n",
      " |-- QT_DOC_EX_45_49: integer (nullable = true)\n",
      " |-- QT_DOC_EX_50_54: integer (nullable = true)\n",
      " |-- QT_DOC_EX_55_59: integer (nullable = true)\n",
      " |-- QT_DOC_EX_60_MAIS: integer (nullable = true)\n",
      " |-- QT_DOC_EX_BRANCA: integer (nullable = true)\n",
      " |-- QT_DOC_EX_PRETA: integer (nullable = true)\n",
      " |-- QT_DOC_EX_PARDA: integer (nullable = true)\n",
      " |-- QT_DOC_EX_AMARELA: integer (nullable = true)\n",
      " |-- QT_DOC_EX_INDIGENA: integer (nullable = true)\n",
      " |-- QT_DOC_EX_COR_ND: integer (nullable = true)\n",
      " |-- QT_DOC_EX_BRA: integer (nullable = true)\n",
      " |-- QT_DOC_EX_EST: integer (nullable = true)\n",
      " |-- QT_DOC_EX_COM_DEFICIENCIA: integer (nullable = true)\n",
      " |-- CO_PROJETO: integer (nullable = true)\n",
      " |-- CO_LOCAL_OFERTA: integer (nullable = true)\n",
      " |-- NO_LOCAL_OFERTA: string (nullable = true)\n",
      "\n"
     ]
    }
   ],
   "source": [
    "\n",
    "\n",
    "df = spark.read.csv(\"../data/Microdados do Censo da Educaç╞o Superior 2021/dados/MICRODADOS_CADASTRO_IES_2021.CSV\", header=True, sep=';', inferSchema = True)\n",
    "\n",
    "df.printSchema()"
   ]
  },
  {
   "cell_type": "markdown",
   "id": "057af031-c831-4a57-a392-934ac9517a92",
   "metadata": {},
   "source": [
    "Deixando os nomes colunas com letras minúsculas"
   ]
  },
  {
   "cell_type": "code",
   "execution_count": 5,
   "id": "110a4016-7dc2-4dcd-8f1e-7d37ab68c0e5",
   "metadata": {
    "tags": []
   },
   "outputs": [],
   "source": [
    "for col in df.columns:\n",
    "    df = df.withColumnRenamed(col, col.lower())"
   ]
  },
  {
   "cell_type": "markdown",
   "id": "551eafd4-dc74-4793-8100-d04bccad5314",
   "metadata": {
    "jupyter": {
     "outputs_hidden": true
    },
    "tags": []
   },
   "source": [
    "Salvado os arquivos em parquet (Não consegui salvar diretamente na pasta data, então salvei fora depois movi os arquivos manualmente)"
   ]
  },
  {
   "cell_type": "code",
   "execution_count": 6,
   "id": "53d1080c-48a1-440b-8e97-4f1a54e3a9a5",
   "metadata": {
    "tags": []
   },
   "outputs": [],
   "source": [
    "df.write.format('parquet').mode('overwrite').save('../microdados_parquet')"
   ]
  },
  {
   "cell_type": "markdown",
   "id": "af045d4e-2779-4a3d-88ca-c83e59630423",
   "metadata": {},
   "source": [
    "Lendo os arquivos em parquet"
   ]
  },
  {
   "cell_type": "code",
   "execution_count": 7,
   "id": "80fdb23e-b3fd-4b8c-90de-f6f36cb92482",
   "metadata": {
    "tags": []
   },
   "outputs": [
    {
     "name": "stdout",
     "output_type": "stream",
     "text": [
      "root\n",
      " |-- nu_ano_censo: integer (nullable = true)\n",
      " |-- no_regiao_ies: string (nullable = true)\n",
      " |-- co_regiao_ies: integer (nullable = true)\n",
      " |-- no_uf_ies: string (nullable = true)\n",
      " |-- sg_uf_ies: string (nullable = true)\n",
      " |-- co_uf_ies: integer (nullable = true)\n",
      " |-- no_municipio_ies: string (nullable = true)\n",
      " |-- co_municipio_ies: integer (nullable = true)\n",
      " |-- in_capital_ies: integer (nullable = true)\n",
      " |-- no_mesorregiao_ies: string (nullable = true)\n",
      " |-- co_mesorregiao_ies: integer (nullable = true)\n",
      " |-- no_microrregiao_ies: string (nullable = true)\n",
      " |-- co_microrregiao_ies: integer (nullable = true)\n",
      " |-- tp_organizacao_academica: integer (nullable = true)\n",
      " |-- tp_categoria_administrativa: integer (nullable = true)\n",
      " |-- no_mantenedora: string (nullable = true)\n",
      " |-- co_mantenedora: integer (nullable = true)\n",
      " |-- co_ies: integer (nullable = true)\n",
      " |-- no_ies: string (nullable = true)\n",
      " |-- sg_ies: string (nullable = true)\n",
      " |-- ds_endereco_ies: string (nullable = true)\n",
      " |-- ds_numero_endereco_ies: string (nullable = true)\n",
      " |-- ds_complemento_endereco_ies: string (nullable = true)\n",
      " |-- no_bairro_ies: string (nullable = true)\n",
      " |-- nu_cep_ies: integer (nullable = true)\n",
      " |-- qt_tec_total: integer (nullable = true)\n",
      " |-- qt_tec_fundamental_incomp_fem: integer (nullable = true)\n",
      " |-- qt_tec_fundamental_incomp_masc: integer (nullable = true)\n",
      " |-- qt_tec_fundamental_comp_fem: integer (nullable = true)\n",
      " |-- qt_tec_fundamental_comp_masc: integer (nullable = true)\n",
      " |-- qt_tec_medio_fem: integer (nullable = true)\n",
      " |-- qt_tec_medio_masc: integer (nullable = true)\n",
      " |-- qt_tec_superior_fem: integer (nullable = true)\n",
      " |-- qt_tec_superior_masc: integer (nullable = true)\n",
      " |-- qt_tec_especializacao_fem: integer (nullable = true)\n",
      " |-- qt_tec_especializacao_masc: integer (nullable = true)\n",
      " |-- qt_tec_mestrado_fem: integer (nullable = true)\n",
      " |-- qt_tec_mestrado_masc: integer (nullable = true)\n",
      " |-- qt_tec_doutorado_fem: integer (nullable = true)\n",
      " |-- qt_tec_doutorado_masc: integer (nullable = true)\n",
      " |-- in_acesso_portal_capes: integer (nullable = true)\n",
      " |-- in_acesso_outras_bases: integer (nullable = true)\n",
      " |-- in_assina_outra_base: integer (nullable = true)\n",
      " |-- in_repositorio_institucional: integer (nullable = true)\n",
      " |-- in_busca_integrada: integer (nullable = true)\n",
      " |-- in_servico_internet: integer (nullable = true)\n",
      " |-- in_participa_rede_social: integer (nullable = true)\n",
      " |-- in_catalogo_online: integer (nullable = true)\n",
      " |-- qt_periodico_eletronico: integer (nullable = true)\n",
      " |-- qt_livro_eletronico: integer (nullable = true)\n",
      " |-- qt_doc_total: integer (nullable = true)\n",
      " |-- qt_doc_exe: integer (nullable = true)\n",
      " |-- qt_doc_ex_femi: integer (nullable = true)\n",
      " |-- qt_doc_ex_masc: integer (nullable = true)\n",
      " |-- qt_doc_ex_sem_grad: integer (nullable = true)\n",
      " |-- qt_doc_ex_grad: integer (nullable = true)\n",
      " |-- qt_doc_ex_esp: integer (nullable = true)\n",
      " |-- qt_doc_ex_mest: integer (nullable = true)\n",
      " |-- qt_doc_ex_dout: integer (nullable = true)\n",
      " |-- qt_doc_ex_int: integer (nullable = true)\n",
      " |-- qt_doc_ex_int_de: integer (nullable = true)\n",
      " |-- qt_doc_ex_int_sem_de: integer (nullable = true)\n",
      " |-- qt_doc_ex_parc: integer (nullable = true)\n",
      " |-- qt_doc_ex_hor: integer (nullable = true)\n",
      " |-- qt_doc_ex_0_29: integer (nullable = true)\n",
      " |-- qt_doc_ex_30_34: integer (nullable = true)\n",
      " |-- qt_doc_ex_35_39: integer (nullable = true)\n",
      " |-- qt_doc_ex_40_44: integer (nullable = true)\n",
      " |-- qt_doc_ex_45_49: integer (nullable = true)\n",
      " |-- qt_doc_ex_50_54: integer (nullable = true)\n",
      " |-- qt_doc_ex_55_59: integer (nullable = true)\n",
      " |-- qt_doc_ex_60_mais: integer (nullable = true)\n",
      " |-- qt_doc_ex_branca: integer (nullable = true)\n",
      " |-- qt_doc_ex_preta: integer (nullable = true)\n",
      " |-- qt_doc_ex_parda: integer (nullable = true)\n",
      " |-- qt_doc_ex_amarela: integer (nullable = true)\n",
      " |-- qt_doc_ex_indigena: integer (nullable = true)\n",
      " |-- qt_doc_ex_cor_nd: integer (nullable = true)\n",
      " |-- qt_doc_ex_bra: integer (nullable = true)\n",
      " |-- qt_doc_ex_est: integer (nullable = true)\n",
      " |-- qt_doc_ex_com_deficiencia: integer (nullable = true)\n",
      " |-- co_projeto: integer (nullable = true)\n",
      " |-- co_local_oferta: integer (nullable = true)\n",
      " |-- no_local_oferta: string (nullable = true)\n",
      "\n"
     ]
    }
   ],
   "source": [
    "df = spark.read.parquet(\"../microdados_parquet\", header=True, sep=';', inferSchema = True)\n",
    "df.printSchema()"
   ]
  },
  {
   "cell_type": "markdown",
   "id": "592c61d1-98fe-4953-a3b6-b13b465664a8",
   "metadata": {},
   "source": [
    "Criando uma temp view para fazer consultas em SQL"
   ]
  },
  {
   "cell_type": "code",
   "execution_count": 8,
   "id": "ff51ef7b-6214-4f19-88ad-83dc35f7b6c5",
   "metadata": {
    "tags": []
   },
   "outputs": [],
   "source": [
    "df.createOrReplaceTempView(\"microdados_ies\")"
   ]
  },
  {
   "cell_type": "code",
   "execution_count": 9,
   "id": "080d65ce-e37c-4898-a861-2e6d2ca8f41e",
   "metadata": {
    "tags": []
   },
   "outputs": [
    {
     "data": {
      "text/html": [
       "<table border='1'>\n",
       "<tr><th>nu_ano_censo</th><th>no_regiao_ies</th><th>co_regiao_ies</th><th>no_uf_ies</th><th>sg_uf_ies</th><th>co_uf_ies</th><th>no_municipio_ies</th><th>co_municipio_ies</th><th>in_capital_ies</th><th>no_mesorregiao_ies</th><th>co_mesorregiao_ies</th><th>no_microrregiao_ies</th><th>co_microrregiao_ies</th><th>tp_organizacao_academica</th><th>tp_categoria_administrativa</th><th>no_mantenedora</th><th>co_mantenedora</th><th>co_ies</th><th>no_ies</th><th>sg_ies</th><th>ds_endereco_ies</th><th>ds_numero_endereco_ies</th><th>ds_complemento_endereco_ies</th><th>no_bairro_ies</th><th>nu_cep_ies</th><th>qt_tec_total</th><th>qt_tec_fundamental_incomp_fem</th><th>qt_tec_fundamental_incomp_masc</th><th>qt_tec_fundamental_comp_fem</th><th>qt_tec_fundamental_comp_masc</th><th>qt_tec_medio_fem</th><th>qt_tec_medio_masc</th><th>qt_tec_superior_fem</th><th>qt_tec_superior_masc</th><th>qt_tec_especializacao_fem</th><th>qt_tec_especializacao_masc</th><th>qt_tec_mestrado_fem</th><th>qt_tec_mestrado_masc</th><th>qt_tec_doutorado_fem</th><th>qt_tec_doutorado_masc</th><th>in_acesso_portal_capes</th><th>in_acesso_outras_bases</th><th>in_assina_outra_base</th><th>in_repositorio_institucional</th><th>in_busca_integrada</th><th>in_servico_internet</th><th>in_participa_rede_social</th><th>in_catalogo_online</th><th>qt_periodico_eletronico</th><th>qt_livro_eletronico</th><th>qt_doc_total</th><th>qt_doc_exe</th><th>qt_doc_ex_femi</th><th>qt_doc_ex_masc</th><th>qt_doc_ex_sem_grad</th><th>qt_doc_ex_grad</th><th>qt_doc_ex_esp</th><th>qt_doc_ex_mest</th><th>qt_doc_ex_dout</th><th>qt_doc_ex_int</th><th>qt_doc_ex_int_de</th><th>qt_doc_ex_int_sem_de</th><th>qt_doc_ex_parc</th><th>qt_doc_ex_hor</th><th>qt_doc_ex_0_29</th><th>qt_doc_ex_30_34</th><th>qt_doc_ex_35_39</th><th>qt_doc_ex_40_44</th><th>qt_doc_ex_45_49</th><th>qt_doc_ex_50_54</th><th>qt_doc_ex_55_59</th><th>qt_doc_ex_60_mais</th><th>qt_doc_ex_branca</th><th>qt_doc_ex_preta</th><th>qt_doc_ex_parda</th><th>qt_doc_ex_amarela</th><th>qt_doc_ex_indigena</th><th>qt_doc_ex_cor_nd</th><th>qt_doc_ex_bra</th><th>qt_doc_ex_est</th><th>qt_doc_ex_com_deficiencia</th><th>co_projeto</th><th>co_local_oferta</th><th>no_local_oferta</th></tr>\n",
       "<tr><td>2021</td><td>Centro-Oeste</td><td>5</td><td>Mato Grosso</td><td>MT</td><td>51</td><td>Cuiab�</td><td>5103403</td><td>1</td><td>Centro-Sul Mato-g...</td><td>4</td><td>Cuiab�</td><td>17</td><td>1</td><td>1</td><td>FUNDACAO UNIVERSI...</td><td>1</td><td>1</td><td>UNIVERSIDADE FEDE...</td><td>UFMT</td><td>Avenida Fernando ...</td><td>2367</td><td>Cidade Universit�ria</td><td>Boa Esperan�a</td><td>78060900</td><td>1344</td><td>4</td><td>15</td><td>5</td><td>14</td><td>49</td><td>93</td><td>112</td><td>136</td><td>306</td><td>295</td><td>158</td><td>96</td><td>34</td><td>27</td><td>1</td><td>0</td><td>1</td><td>1</td><td>1</td><td>1</td><td>1</td><td>1</td><td>0</td><td>0</td><td>1718</td><td>1628</td><td>801</td><td>827</td><td>0</td><td>50</td><td>76</td><td>263</td><td>1239</td><td>1571</td><td>1275</td><td>296</td><td>57</td><td>0</td><td>58</td><td>214</td><td>310</td><td>335</td><td>242</td><td>160</td><td>137</td><td>172</td><td>1000</td><td>72</td><td>390</td><td>48</td><td>5</td><td>113</td><td>1593</td><td>35</td><td>6</td><td>2111801</td><td>105340</td><td>Campus Universit�...</td></tr>\n",
       "<tr><td>2021</td><td>Centro-Oeste</td><td>5</td><td>Distrito Federal</td><td>DF</td><td>53</td><td>Bras�lia</td><td>5300108</td><td>1</td><td>Distrito Federal</td><td>1</td><td>Bras�lia</td><td>1</td><td>1</td><td>1</td><td>FUNDACAO UNIVERSI...</td><td>2</td><td>2</td><td>UNIVERSIDADE DE B...</td><td>UNB</td><td>Campus Universit�...</td><td>s/n</td><td>-</td><td>Asa Norte</td><td>70910900</td><td>3081</td><td>0</td><td>0</td><td>6</td><td>30</td><td>64</td><td>132</td><td>349</td><td>263</td><td>785</td><td>702</td><td>263</td><td>349</td><td>81</td><td>57</td><td>1</td><td>0</td><td>1</td><td>1</td><td>0</td><td>1</td><td>1</td><td>1</td><td>12438</td><td>493150</td><td>2942</td><td>2639</td><td>1174</td><td>1465</td><td>0</td><td>2</td><td>21</td><td>237</td><td>2379</td><td>2475</td><td>2255</td><td>220</td><td>164</td><td>0</td><td>38</td><td>160</td><td>323</td><td>474</td><td>431</td><td>359</td><td>375</td><td>479</td><td>1670</td><td>82</td><td>416</td><td>57</td><td>8</td><td>406</td><td>2496</td><td>143</td><td>10</td><td>2111801</td><td>4229</td><td>Campus Universit�...</td></tr>\n",
       "<tr><td>2021</td><td>Nordeste</td><td>2</td><td>Sergipe</td><td>SE</td><td>28</td><td>S�o Crist�v�o</td><td>2806701</td><td>0</td><td>Leste Sergipano</td><td>3</td><td>Aracaju</td><td>11</td><td>1</td><td>1</td><td>FUNDACAO UNIVERSI...</td><td>3</td><td>3</td><td>UNIVERSIDADE FEDE...</td><td>UFS</td><td>Avenida Marechal ...</td><td>s/n</td><td>-</td><td>Jardim Rosa Elze</td><td>49100000</td><td>956</td><td>0</td><td>0</td><td>1</td><td>0</td><td>146</td><td>109</td><td>171</td><td>151</td><td>137</td><td>89</td><td>83</td><td>51</td><td>13</td><td>5</td><td>1</td><td>0</td><td>1</td><td>1</td><td>1</td><td>1</td><td>1</td><td>1</td><td>40534</td><td>316939</td><td>1833</td><td>1777</td><td>851</td><td>926</td><td>0</td><td>113</td><td>0</td><td>272</td><td>1392</td><td>1569</td><td>1404</td><td>165</td><td>208</td><td>0</td><td>57</td><td>163</td><td>317</td><td>354</td><td>289</td><td>233</td><td>191</td><td>173</td><td>172</td><td>35</td><td>269</td><td>9</td><td>2</td><td>1290</td><td>1747</td><td>30</td><td>4</td><td>2111801</td><td>1006435</td><td>Unidade SEDE</td></tr>\n",
       "<tr><td>2021</td><td>Norte</td><td>1</td><td>Amazonas</td><td>AM</td><td>13</td><td>Manaus</td><td>1302603</td><td>1</td><td>Centro Amazonense</td><td>3</td><td>Manaus</td><td>7</td><td>1</td><td>1</td><td>FUNDACAO UNIVERSI...</td><td>4</td><td>4</td><td>UNIVERSIDADE FEDE...</td><td>UFAM</td><td>Av. Rodrigo Ot�vio</td><td>6200</td><td>Campus Universit�rio</td><td>Coroado II</td><td>69077000</td><td>1862</td><td>6</td><td>6</td><td>3</td><td>13</td><td>120</td><td>152</td><td>317</td><td>282</td><td>409</td><td>263</td><td>140</td><td>101</td><td>27</td><td>23</td><td>1</td><td>0</td><td>1</td><td>1</td><td>1</td><td>1</td><td>1</td><td>1</td><td>40191</td><td>3683</td><td>1981</td><td>1824</td><td>822</td><td>1002</td><td>0</td><td>111</td><td>141</td><td>436</td><td>1136</td><td>1730</td><td>1349</td><td>381</td><td>94</td><td>0</td><td>93</td><td>200</td><td>307</td><td>317</td><td>255</td><td>228</td><td>221</td><td>203</td><td>113</td><td>16</td><td>125</td><td>6</td><td>4</td><td>1560</td><td>1821</td><td>3</td><td>2</td><td>2111801</td><td>1036292</td><td>Unidade Sede</td></tr>\n",
       "<tr><td>2021</td><td>Nordeste</td><td>2</td><td>Piau�</td><td>PI</td><td>22</td><td>Teresina</td><td>2211001</td><td>1</td><td>Centro-Norte Piau...</td><td>2</td><td>Teresina</td><td>3</td><td>1</td><td>1</td><td>FUNDACAO UNIVERSI...</td><td>14054</td><td>5</td><td>UNIVERSIDADE FEDE...</td><td>UFPI</td><td>Campus Universit�...</td><td>s/n</td><td>SG - 07</td><td>Ininga</td><td>64049550</td><td>1041</td><td>3</td><td>18</td><td>2</td><td>20</td><td>26</td><td>77</td><td>90</td><td>111</td><td>229</td><td>206</td><td>120</td><td>83</td><td>26</td><td>30</td><td>1</td><td>0</td><td>0</td><td>1</td><td>0</td><td>1</td><td>1</td><td>1</td><td>0</td><td>0</td><td>1577</td><td>1470</td><td>709</td><td>761</td><td>0</td><td>0</td><td>76</td><td>286</td><td>1108</td><td>1372</td><td>1182</td><td>190</td><td>98</td><td>0</td><td>27</td><td>156</td><td>280</td><td>286</td><td>197</td><td>149</td><td>149</td><td>226</td><td>110</td><td>42</td><td>204</td><td>0</td><td>2</td><td>1112</td><td>1470</td><td>0</td><td>0</td><td>2111801</td><td>102559</td><td>CAMPUS MINISTRO P...</td></tr>\n",
       "<tr><td>2021</td><td>Sudeste</td><td>3</td><td>Minas Gerais</td><td>MG</td><td>31</td><td>Ouro Preto</td><td>3146107</td><td>0</td><td>Metropolitana de ...</td><td>7</td><td>Ouro Preto</td><td>33</td><td>1</td><td>1</td><td>UNIVERSIDADE FEDE...</td><td>6</td><td>6</td><td>UNIVERSIDADE FEDE...</td><td>UFOP</td><td>Rua Diogo de Vasc...</td><td>122</td><td>-</td><td>Centro</td><td>35400000</td><td>715</td><td>4</td><td>23</td><td>3</td><td>14</td><td>23</td><td>56</td><td>42</td><td>84</td><td>93</td><td>121</td><td>115</td><td>88</td><td>29</td><td>20</td><td>1</td><td>0</td><td>1</td><td>1</td><td>0</td><td>0</td><td>0</td><td>1</td><td>0</td><td>28762</td><td>928</td><td>846</td><td>332</td><td>514</td><td>0</td><td>2</td><td>16</td><td>82</td><td>746</td><td>839</td><td>790</td><td>49</td><td>7</td><td>0</td><td>3</td><td>67</td><td>194</td><td>199</td><td>117</td><td>97</td><td>93</td><td>76</td><td>402</td><td>25</td><td>146</td><td>4</td><td>1</td><td>268</td><td>844</td><td>2</td><td>3</td><td>2111801</td><td>664</td><td>Reitoria</td></tr>\n",
       "<tr><td>2021</td><td>Sudeste</td><td>3</td><td>S�o Paulo</td><td>SP</td><td>35</td><td>S�o Carlos</td><td>3548906</td><td>0</td><td>Araraquara</td><td>5</td><td>S�o Carlos</td><td>25</td><td>1</td><td>1</td><td>FUNDACAO UNIVERSI...</td><td>1302</td><td>7</td><td>UNIVERSIDADE FEDE...</td><td>UFSCAR</td><td>Via Washington  Luis</td><td>Km 235</td><td>S/N�</td><td>Monjolinho</td><td>13565905</td><td>968</td><td>17</td><td>22</td><td>9</td><td>12</td><td>9</td><td>48</td><td>79</td><td>106</td><td>164</td><td>152</td><td>139</td><td>103</td><td>61</td><td>47</td><td>1</td><td>0</td><td>0</td><td>1</td><td>0</td><td>1</td><td>1</td><td>1</td><td>23596</td><td>20419</td><td>1339</td><td>1339</td><td>602</td><td>737</td><td>0</td><td>1</td><td>3</td><td>50</td><td>1285</td><td>1284</td><td>1258</td><td>26</td><td>55</td><td>0</td><td>3</td><td>60</td><td>199</td><td>282</td><td>212</td><td>197</td><td>172</td><td>214</td><td>767</td><td>13</td><td>69</td><td>27</td><td>2</td><td>461</td><td>1310</td><td>29</td><td>8</td><td>2111801</td><td>1006610</td><td>Unidade SEDE</td></tr>\n",
       "<tr><td>2021</td><td>Sudeste</td><td>3</td><td>Minas Gerais</td><td>MG</td><td>31</td><td>Vi�osa</td><td>3171303</td><td>0</td><td>Zona da Mata</td><td>12</td><td>Vi�osa</td><td>62</td><td>1</td><td>1</td><td>UNIVERSIDADE FEDE...</td><td>15588</td><td>8</td><td>UNIVERSIDADE FEDE...</td><td>UFV</td><td>Av. P.H. Rolfs</td><td>s/n</td><td>Campus Universit�rio</td><td>Campus Universit�rio</td><td>36570000</td><td>2001</td><td>7</td><td>111</td><td>1</td><td>29</td><td>23</td><td>307</td><td>73</td><td>160</td><td>319</td><td>492</td><td>185</td><td>178</td><td>69</td><td>47</td><td>1</td><td>0</td><td>1</td><td>1</td><td>0</td><td>1</td><td>0</td><td>1</td><td>0</td><td>79733</td><td>1292</td><td>1292</td><td>518</td><td>774</td><td>0</td><td>17</td><td>24</td><td>128</td><td>1123</td><td>1251</td><td>1159</td><td>92</td><td>41</td><td>0</td><td>32</td><td>130</td><td>238</td><td>285</td><td>154</td><td>122</td><td>176</td><td>155</td><td>398</td><td>24</td><td>96</td><td>4</td><td>0</td><td>770</td><td>1267</td><td>25</td><td>0</td><td>2111801</td><td>1005394</td><td>Universidade Fede...</td></tr>\n",
       "<tr><td>2021</td><td>Sul</td><td>4</td><td>Paran�</td><td>PR</td><td>41</td><td>Londrina</td><td>4113700</td><td>0</td><td>Norte Central Par...</td><td>3</td><td>Londrina</td><td>11</td><td>1</td><td>2</td><td>SECRET DE EST CIE...</td><td>37</td><td>9</td><td>UNIVERSIDADE ESTA...</td><td>UEL</td><td>Rodovia Celso Gar...</td><td>-</td><td>UEL - CAMPUS UNIV...</td><td>Campus Universit�rio</td><td>86057970</td><td>756</td><td>0</td><td>5</td><td>1</td><td>5</td><td>57</td><td>68</td><td>149</td><td>169</td><td>124</td><td>86</td><td>29</td><td>39</td><td>8</td><td>16</td><td>1</td><td>0</td><td>1</td><td>1</td><td>0</td><td>1</td><td>1</td><td>1</td><td>0</td><td>2568</td><td>1820</td><td>1792</td><td>932</td><td>860</td><td>0</td><td>17</td><td>65</td><td>359</td><td>1351</td><td>1325</td><td>970</td><td>355</td><td>462</td><td>5</td><td>48</td><td>185</td><td>266</td><td>272</td><td>244</td><td>267</td><td>262</td><td>248</td><td>1458</td><td>24</td><td>132</td><td>87</td><td>2</td><td>89</td><td>1775</td><td>17</td><td>55</td><td>2111801</td><td>657675</td><td>UEL - CAMPUS UNIV...</td></tr>\n",
       "<tr><td>2021</td><td>Sul</td><td>4</td><td>Paran�</td><td>PR</td><td>41</td><td>Curitiba</td><td>4106902</td><td>1</td><td>Metropolitana de ...</td><td>10</td><td>Curitiba</td><td>37</td><td>1</td><td>5</td><td>ASSOCIACAO PARANA...</td><td>10</td><td>10</td><td>PONTIF�CIA UNIVER...</td><td>PUCPR</td><td>Rua Imaculada Con...</td><td>1155</td><td>-</td><td>Prado Velho</td><td>80215901</td><td>1548</td><td>0</td><td>0</td><td>45</td><td>41</td><td>276</td><td>204</td><td>410</td><td>194</td><td>157</td><td>99</td><td>30</td><td>28</td><td>30</td><td>34</td><td>1</td><td>0</td><td>1</td><td>1</td><td>0</td><td>1</td><td>1</td><td>1</td><td>55040</td><td>25036</td><td>1349</td><td>1349</td><td>575</td><td>774</td><td>0</td><td>1</td><td>59</td><td>582</td><td>707</td><td>448</td><td>0</td><td>448</td><td>655</td><td>246</td><td>31</td><td>120</td><td>191</td><td>229</td><td>229</td><td>212</td><td>151</td><td>186</td><td>680</td><td>15</td><td>40</td><td>28</td><td>1</td><td>585</td><td>1343</td><td>6</td><td>11</td><td>2111801</td><td>657676</td><td>PUCPR - Campus Cu...</td></tr>\n",
       "<tr><td>2021</td><td>Nordeste</td><td>2</td><td>Pernambuco</td><td>PE</td><td>26</td><td>Recife</td><td>2611606</td><td>1</td><td>Metropolitana de ...</td><td>5</td><td>Recife</td><td>17</td><td>1</td><td>5</td><td>ASSOCIACAO ANTONI...</td><td>14</td><td>11</td><td>UNIVERSIDADE CAT�...</td><td>UNICAP</td><td>Rua do Pr�ncipe</td><td>526</td><td>Campus Universit�...</td><td>Boa Vista</td><td>50050900</td><td>406</td><td>1</td><td>8</td><td>0</td><td>8</td><td>46</td><td>75</td><td>96</td><td>70</td><td>43</td><td>34</td><td>7</td><td>16</td><td>1</td><td>1</td><td>1</td><td>0</td><td>0</td><td>0</td><td>0</td><td>1</td><td>1</td><td>1</td><td>174</td><td>13734</td><td>517</td><td>510</td><td>232</td><td>278</td><td>0</td><td>0</td><td>39</td><td>200</td><td>271</td><td>172</td><td>0</td><td>172</td><td>123</td><td>215</td><td>7</td><td>49</td><td>65</td><td>60</td><td>75</td><td>63</td><td>69</td><td>122</td><td>348</td><td>18</td><td>142</td><td>0</td><td>0</td><td>2</td><td>507</td><td>3</td><td>1</td><td>2111801</td><td>657677</td><td>POLO NA SEDE</td></tr>\n",
       "<tr><td>2021</td><td>Sul</td><td>4</td><td>Rio Grande do Sul</td><td>RS</td><td>43</td><td>Rio Grande</td><td>4315602</td><td>0</td><td>Sudeste Rio-grand...</td><td>7</td><td>Litoral Lagunar</td><td>35</td><td>1</td><td>1</td><td>UNIVERSIDADE FEDE...</td><td>15596</td><td>12</td><td>UNIVERSIDADE FEDE...</td><td>FURG</td><td>Avenida It�lia</td><td>S/N</td><td>Km 8</td><td>Carreiros</td><td>96203900</td><td>1151</td><td>0</td><td>13</td><td>2</td><td>5</td><td>57</td><td>80</td><td>96</td><td>105</td><td>241</td><td>142</td><td>174</td><td>106</td><td>92</td><td>38</td><td>1</td><td>0</td><td>1</td><td>1</td><td>0</td><td>1</td><td>1</td><td>1</td><td>49331</td><td>91349</td><td>986</td><td>970</td><td>479</td><td>491</td><td>0</td><td>6</td><td>13</td><td>128</td><td>823</td><td>948</td><td>816</td><td>132</td><td>22</td><td>0</td><td>20</td><td>72</td><td>183</td><td>212</td><td>148</td><td>124</td><td>101</td><td>110</td><td>796</td><td>21</td><td>69</td><td>7</td><td>5</td><td>72</td><td>935</td><td>35</td><td>9</td><td>2111801</td><td>1045632</td><td>CAMPUS CARREIROS ...</td></tr>\n",
       "<tr><td>2021</td><td>Sul</td><td>4</td><td>Rio Grande do Sul</td><td>RS</td><td>43</td><td>Caxias do Sul</td><td>4305108</td><td>0</td><td>Nordeste Rio-gran...</td><td>2</td><td>Caxias do Sul</td><td>16</td><td>1</td><td>5</td><td>FUNDACAO UNIVERSI...</td><td>13</td><td>13</td><td>UNIVERSIDADE DE C...</td><td>UCS</td><td>Rua Francisco Get...</td><td>1130</td><td>Bloco A</td><td>Petr�polis</td><td>95070560</td><td>920</td><td>8</td><td>17</td><td>13</td><td>14</td><td>224</td><td>184</td><td>219</td><td>77</td><td>96</td><td>29</td><td>20</td><td>11</td><td>6</td><td>2</td><td>1</td><td>0</td><td>1</td><td>1</td><td>1</td><td>1</td><td>1</td><td>1</td><td>0</td><td>13000</td><td>796</td><td>788</td><td>409</td><td>379</td><td>0</td><td>0</td><td>94</td><td>369</td><td>325</td><td>266</td><td>1</td><td>265</td><td>265</td><td>257</td><td>8</td><td>65</td><td>109</td><td>137</td><td>135</td><td>121</td><td>95</td><td>118</td><td>747</td><td>2</td><td>7</td><td>0</td><td>0</td><td>32</td><td>788</td><td>0</td><td>10</td><td>2111801</td><td>1003692</td><td>CAMPUS SEDE</td></tr>\n",
       "<tr><td>2021</td><td>Sul</td><td>4</td><td>Rio Grande do Sul</td><td>RS</td><td>43</td><td>S�o Leopoldo</td><td>4318705</td><td>0</td><td>Metropolitana de ...</td><td>5</td><td>Porto Alegre</td><td>26</td><td>1</td><td>5</td><td>ASSOCIACAO ANTONI...</td><td>14</td><td>14</td><td>UNIVERSIDADE DO V...</td><td>UNISINOS</td><td>Avenida Unisinos</td><td>950</td><td>-</td><td>Cristo Rei</td><td>93022750</td><td>895</td><td>1</td><td>1</td><td>1</td><td>2</td><td>250</td><td>260</td><td>149</td><td>70</td><td>65</td><td>27</td><td>23</td><td>30</td><td>7</td><td>9</td><td>1</td><td>0</td><td>1</td><td>1</td><td>0</td><td>1</td><td>0</td><td>1</td><td>32353</td><td>25796</td><td>917</td><td>902</td><td>431</td><td>471</td><td>0</td><td>0</td><td>36</td><td>329</td><td>537</td><td>299</td><td>3</td><td>296</td><td>460</td><td>143</td><td>8</td><td>79</td><td>128</td><td>210</td><td>139</td><td>115</td><td>96</td><td>127</td><td>870</td><td>11</td><td>13</td><td>1</td><td>0</td><td>7</td><td>876</td><td>26</td><td>5</td><td>2111801</td><td>657678</td><td>Unidade SEDE</td></tr>\n",
       "<tr><td>2021</td><td>Sudeste</td><td>3</td><td>Rio de Janeiro</td><td>RJ</td><td>33</td><td>Petr�polis</td><td>3303906</td><td>0</td><td>Metropolitana do ...</td><td>6</td><td>Serrana</td><td>15</td><td>1</td><td>5</td><td>ASSOCIACAO FACULD...</td><td>15046</td><td>15</td><td>UNIVERSIDADE CAT�...</td><td>UCP</td><td>Rua Benjamin Cons...</td><td>213</td><td>-</td><td>Centro</td><td>25610130</td><td>227</td><td>3</td><td>23</td><td>7</td><td>21</td><td>54</td><td>55</td><td>28</td><td>22</td><td>6</td><td>3</td><td>3</td><td>2</td><td>0</td><td>0</td><td>1</td><td>0</td><td>0</td><td>0</td><td>1</td><td>1</td><td>0</td><td>1</td><td>0</td><td>24062</td><td>165</td><td>165</td><td>63</td><td>102</td><td>0</td><td>1</td><td>4</td><td>93</td><td>67</td><td>57</td><td>0</td><td>57</td><td>47</td><td>61</td><td>0</td><td>10</td><td>26</td><td>32</td><td>25</td><td>19</td><td>23</td><td>30</td><td>138</td><td>3</td><td>14</td><td>0</td><td>0</td><td>10</td><td>162</td><td>3</td><td>3</td><td>2111801</td><td>657679</td><td>Unidade SEDE</td></tr>\n",
       "<tr><td>2021</td><td>Sudeste</td><td>3</td><td>Minas Gerais</td><td>MG</td><td>31</td><td>Uberl�ndia</td><td>3170206</td><td>0</td><td>Tri�ngulo Mineiro...</td><td>5</td><td>Uberl�ndia</td><td>18</td><td>1</td><td>1</td><td>UNIVERSIDADE FEDE...</td><td>9140</td><td>17</td><td>UNIVERSIDADE FEDE...</td><td>UFU</td><td>Avenida Jo�o Nave...</td><td>2121</td><td>-</td><td>Santa M�nica</td><td>38400902</td><td>1918</td><td>6</td><td>39</td><td>6</td><td>17</td><td>207</td><td>190</td><td>131</td><td>146</td><td>348</td><td>313</td><td>211</td><td>162</td><td>88</td><td>54</td><td>1</td><td>0</td><td>1</td><td>1</td><td>1</td><td>1</td><td>1</td><td>1</td><td>263</td><td>229074</td><td>1897</td><td>1859</td><td>808</td><td>1051</td><td>0</td><td>10</td><td>21</td><td>126</td><td>1702</td><td>1836</td><td>1679</td><td>157</td><td>23</td><td>0</td><td>25</td><td>128</td><td>322</td><td>397</td><td>339</td><td>244</td><td>210</td><td>194</td><td>1451</td><td>44</td><td>216</td><td>38</td><td>1</td><td>109</td><td>1830</td><td>29</td><td>12</td><td>2111801</td><td>1005524</td><td>Campus Santa M�ni...</td></tr>\n",
       "<tr><td>2021</td><td>Sul</td><td>4</td><td>Rio Grande do Sul</td><td>RS</td><td>43</td><td>Pelotas</td><td>4314407</td><td>0</td><td>Sudeste Rio-grand...</td><td>7</td><td>Pelotas</td><td>33</td><td>1</td><td>5</td><td>ASSOCIACAO PELOTE...</td><td>18</td><td>18</td><td>UNIVERSIDADE CAT�...</td><td>UCPEL</td><td>Rua F�lix da Cunha</td><td>412</td><td>-</td><td>Centro</td><td>96010000</td><td>265</td><td>2</td><td>3</td><td>1</td><td>2</td><td>31</td><td>25</td><td>80</td><td>42</td><td>38</td><td>19</td><td>12</td><td>3</td><td>5</td><td>2</td><td>1</td><td>0</td><td>0</td><td>1</td><td>0</td><td>1</td><td>0</td><td>1</td><td>42</td><td>11000</td><td>326</td><td>326</td><td>183</td><td>143</td><td>0</td><td>1</td><td>120</td><td>106</td><td>99</td><td>103</td><td>0</td><td>103</td><td>172</td><td>51</td><td>11</td><td>61</td><td>70</td><td>52</td><td>36</td><td>26</td><td>26</td><td>44</td><td>322</td><td>1</td><td>3</td><td>0</td><td>0</td><td>0</td><td>324</td><td>2</td><td>0</td><td>2111801</td><td>608</td><td>UCPel</td></tr>\n",
       "<tr><td>2021</td><td>Sudeste</td><td>3</td><td>S�o Paulo</td><td>SP</td><td>35</td><td>Campinas</td><td>3509502</td><td>0</td><td>Campinas</td><td>7</td><td>Campinas</td><td>32</td><td>1</td><td>5</td><td>SOCIEDADE CAMPINE...</td><td>19</td><td>19</td><td>PONTIF�CIA UNIVER...</td><td>PUC-CAMPINAS</td><td>Rua Professor Dou...</td><td>1516</td><td>Gleba 1 - QT. 064...</td><td>Parque Rural Faze...</td><td>13087571</td><td>644</td><td>5</td><td>7</td><td>7</td><td>7</td><td>144</td><td>124</td><td>183</td><td>99</td><td>40</td><td>16</td><td>2</td><td>8</td><td>1</td><td>1</td><td>1</td><td>0</td><td>1</td><td>1</td><td>1</td><td>1</td><td>1</td><td>1</td><td>10762</td><td>399</td><td>753</td><td>741</td><td>352</td><td>389</td><td>0</td><td>0</td><td>104</td><td>219</td><td>418</td><td>251</td><td>0</td><td>251</td><td>145</td><td>345</td><td>7</td><td>39</td><td>79</td><td>116</td><td>97</td><td>112</td><td>86</td><td>205</td><td>285</td><td>3</td><td>14</td><td>7</td><td>1</td><td>431</td><td>731</td><td>10</td><td>2</td><td>2111801</td><td>657681</td><td>Unidade SEDE</td></tr>\n",
       "<tr><td>2021</td><td>Sul</td><td>4</td><td>Rio Grande do Sul</td><td>RS</td><td>43</td><td>Passo Fundo</td><td>4314100</td><td>0</td><td>Noroeste Rio-gran...</td><td>1</td><td>Passo Fundo</td><td>10</td><td>1</td><td>5</td><td>FUNDACAO UNIVERSI...</td><td>20</td><td>20</td><td>UNIVERSIDADE DE P...</td><td>UPF</td><td>Upf Campus Passo ...</td><td>s/n�</td><td>BR 285 - KM 171</td><td>S�o Jos�</td><td>99001970</td><td>854</td><td>22</td><td>17</td><td>33</td><td>11</td><td>208</td><td>178</td><td>114</td><td>86</td><td>109</td><td>44</td><td>20</td><td>9</td><td>0</td><td>3</td><td>1</td><td>0</td><td>1</td><td>1</td><td>0</td><td>1</td><td>1</td><td>1</td><td>30</td><td>235000</td><td>717</td><td>690</td><td>328</td><td>362</td><td>0</td><td>0</td><td>121</td><td>276</td><td>293</td><td>243</td><td>0</td><td>243</td><td>246</td><td>201</td><td>12</td><td>76</td><td>109</td><td>112</td><td>123</td><td>95</td><td>91</td><td>72</td><td>683</td><td>1</td><td>3</td><td>0</td><td>0</td><td>3</td><td>682</td><td>8</td><td>9</td><td>2111801</td><td>657682</td><td>UPF Campus I</td></tr>\n",
       "<tr><td>2021</td><td>Sul</td><td>4</td><td>Rio Grande do Sul</td><td>RS</td><td>43</td><td>Porto Alegre</td><td>4314902</td><td>1</td><td>Metropolitana de ...</td><td>5</td><td>Porto Alegre</td><td>26</td><td>1</td><td>5</td><td>UNIAO BRASILEIRA ...</td><td>21</td><td>21</td><td>PONTIF�CIA UNIVER...</td><td>PUCRS</td><td>Av. Ipiranga</td><td>6681</td><td>-</td><td>Partenon</td><td>90619900</td><td>1824</td><td>18</td><td>48</td><td>55</td><td>66</td><td>335</td><td>571</td><td>258</td><td>235</td><td>93</td><td>55</td><td>30</td><td>25</td><td>18</td><td>17</td><td>1</td><td>0</td><td>1</td><td>1</td><td>1</td><td>1</td><td>1</td><td>1</td><td>19</td><td>604969</td><td>905</td><td>905</td><td>355</td><td>550</td><td>0</td><td>0</td><td>19</td><td>216</td><td>670</td><td>359</td><td>99</td><td>260</td><td>352</td><td>194</td><td>1</td><td>42</td><td>93</td><td>133</td><td>153</td><td>130</td><td>143</td><td>210</td><td>875</td><td>6</td><td>12</td><td>3</td><td>0</td><td>9</td><td>895</td><td>10</td><td>7</td><td>2111801</td><td>1006454</td><td>CENTRAL - PORTO A...</td></tr>\n",
       "</table>\n",
       "only showing top 20 rows\n"
      ],
      "text/plain": [
       "+------------+-------------+-------------+-----------------+---------+---------+----------------+----------------+--------------+--------------------+------------------+-------------------+-------------------+------------------------+---------------------------+--------------------+--------------+------+--------------------+------------+--------------------+----------------------+---------------------------+--------------------+----------+------------+-----------------------------+------------------------------+---------------------------+----------------------------+----------------+-----------------+-------------------+--------------------+-------------------------+--------------------------+-------------------+--------------------+--------------------+---------------------+----------------------+----------------------+--------------------+----------------------------+------------------+-------------------+------------------------+------------------+-----------------------+-------------------+------------+----------+--------------+--------------+------------------+--------------+-------------+--------------+--------------+-------------+----------------+--------------------+--------------+-------------+--------------+---------------+---------------+---------------+---------------+---------------+---------------+-----------------+----------------+---------------+---------------+-----------------+------------------+----------------+-------------+-------------+-------------------------+----------+---------------+--------------------+\n",
       "|nu_ano_censo|no_regiao_ies|co_regiao_ies|        no_uf_ies|sg_uf_ies|co_uf_ies|no_municipio_ies|co_municipio_ies|in_capital_ies|  no_mesorregiao_ies|co_mesorregiao_ies|no_microrregiao_ies|co_microrregiao_ies|tp_organizacao_academica|tp_categoria_administrativa|      no_mantenedora|co_mantenedora|co_ies|              no_ies|      sg_ies|     ds_endereco_ies|ds_numero_endereco_ies|ds_complemento_endereco_ies|       no_bairro_ies|nu_cep_ies|qt_tec_total|qt_tec_fundamental_incomp_fem|qt_tec_fundamental_incomp_masc|qt_tec_fundamental_comp_fem|qt_tec_fundamental_comp_masc|qt_tec_medio_fem|qt_tec_medio_masc|qt_tec_superior_fem|qt_tec_superior_masc|qt_tec_especializacao_fem|qt_tec_especializacao_masc|qt_tec_mestrado_fem|qt_tec_mestrado_masc|qt_tec_doutorado_fem|qt_tec_doutorado_masc|in_acesso_portal_capes|in_acesso_outras_bases|in_assina_outra_base|in_repositorio_institucional|in_busca_integrada|in_servico_internet|in_participa_rede_social|in_catalogo_online|qt_periodico_eletronico|qt_livro_eletronico|qt_doc_total|qt_doc_exe|qt_doc_ex_femi|qt_doc_ex_masc|qt_doc_ex_sem_grad|qt_doc_ex_grad|qt_doc_ex_esp|qt_doc_ex_mest|qt_doc_ex_dout|qt_doc_ex_int|qt_doc_ex_int_de|qt_doc_ex_int_sem_de|qt_doc_ex_parc|qt_doc_ex_hor|qt_doc_ex_0_29|qt_doc_ex_30_34|qt_doc_ex_35_39|qt_doc_ex_40_44|qt_doc_ex_45_49|qt_doc_ex_50_54|qt_doc_ex_55_59|qt_doc_ex_60_mais|qt_doc_ex_branca|qt_doc_ex_preta|qt_doc_ex_parda|qt_doc_ex_amarela|qt_doc_ex_indigena|qt_doc_ex_cor_nd|qt_doc_ex_bra|qt_doc_ex_est|qt_doc_ex_com_deficiencia|co_projeto|co_local_oferta|     no_local_oferta|\n",
       "+------------+-------------+-------------+-----------------+---------+---------+----------------+----------------+--------------+--------------------+------------------+-------------------+-------------------+------------------------+---------------------------+--------------------+--------------+------+--------------------+------------+--------------------+----------------------+---------------------------+--------------------+----------+------------+-----------------------------+------------------------------+---------------------------+----------------------------+----------------+-----------------+-------------------+--------------------+-------------------------+--------------------------+-------------------+--------------------+--------------------+---------------------+----------------------+----------------------+--------------------+----------------------------+------------------+-------------------+------------------------+------------------+-----------------------+-------------------+------------+----------+--------------+--------------+------------------+--------------+-------------+--------------+--------------+-------------+----------------+--------------------+--------------+-------------+--------------+---------------+---------------+---------------+---------------+---------------+---------------+-----------------+----------------+---------------+---------------+-----------------+------------------+----------------+-------------+-------------+-------------------------+----------+---------------+--------------------+\n",
       "|        2021| Centro-Oeste|            5|      Mato Grosso|       MT|       51|          Cuiab�|         5103403|             1|Centro-Sul Mato-g...|                 4|             Cuiab�|                 17|                       1|                          1|FUNDACAO UNIVERSI...|             1|     1|UNIVERSIDADE FEDE...|        UFMT|Avenida Fernando ...|                  2367|       Cidade Universit�ria|       Boa Esperan�a|  78060900|        1344|                            4|                            15|                          5|                          14|              49|               93|                112|                 136|                      306|                       295|                158|                  96|                  34|                   27|                     1|                     0|                   1|                           1|                 1|                  1|                       1|                 1|                      0|                  0|        1718|      1628|           801|           827|                 0|            50|           76|           263|          1239|         1571|            1275|                 296|            57|            0|            58|            214|            310|            335|            242|            160|            137|              172|            1000|             72|            390|               48|                 5|             113|         1593|           35|                        6|   2111801|         105340|Campus Universit�...|\n",
       "|        2021| Centro-Oeste|            5| Distrito Federal|       DF|       53|        Bras�lia|         5300108|             1|    Distrito Federal|                 1|           Bras�lia|                  1|                       1|                          1|FUNDACAO UNIVERSI...|             2|     2|UNIVERSIDADE DE B...|         UNB|Campus Universit�...|                   s/n|                          -|           Asa Norte|  70910900|        3081|                            0|                             0|                          6|                          30|              64|              132|                349|                 263|                      785|                       702|                263|                 349|                  81|                   57|                     1|                     0|                   1|                           1|                 0|                  1|                       1|                 1|                  12438|             493150|        2942|      2639|          1174|          1465|                 0|             2|           21|           237|          2379|         2475|            2255|                 220|           164|            0|            38|            160|            323|            474|            431|            359|            375|              479|            1670|             82|            416|               57|                 8|             406|         2496|          143|                       10|   2111801|           4229|Campus Universit�...|\n",
       "|        2021|     Nordeste|            2|          Sergipe|       SE|       28|   S�o Crist�v�o|         2806701|             0|     Leste Sergipano|                 3|            Aracaju|                 11|                       1|                          1|FUNDACAO UNIVERSI...|             3|     3|UNIVERSIDADE FEDE...|         UFS|Avenida Marechal ...|                   s/n|                          -|    Jardim Rosa Elze|  49100000|         956|                            0|                             0|                          1|                           0|             146|              109|                171|                 151|                      137|                        89|                 83|                  51|                  13|                    5|                     1|                     0|                   1|                           1|                 1|                  1|                       1|                 1|                  40534|             316939|        1833|      1777|           851|           926|                 0|           113|            0|           272|          1392|         1569|            1404|                 165|           208|            0|            57|            163|            317|            354|            289|            233|            191|              173|             172|             35|            269|                9|                 2|            1290|         1747|           30|                        4|   2111801|        1006435|        Unidade SEDE|\n",
       "|        2021|        Norte|            1|         Amazonas|       AM|       13|          Manaus|         1302603|             1|   Centro Amazonense|                 3|             Manaus|                  7|                       1|                          1|FUNDACAO UNIVERSI...|             4|     4|UNIVERSIDADE FEDE...|        UFAM|  Av. Rodrigo Ot�vio|                  6200|       Campus Universit�rio|          Coroado II|  69077000|        1862|                            6|                             6|                          3|                          13|             120|              152|                317|                 282|                      409|                       263|                140|                 101|                  27|                   23|                     1|                     0|                   1|                           1|                 1|                  1|                       1|                 1|                  40191|               3683|        1981|      1824|           822|          1002|                 0|           111|          141|           436|          1136|         1730|            1349|                 381|            94|            0|            93|            200|            307|            317|            255|            228|            221|              203|             113|             16|            125|                6|                 4|            1560|         1821|            3|                        2|   2111801|        1036292|        Unidade Sede|\n",
       "|        2021|     Nordeste|            2|            Piau�|       PI|       22|        Teresina|         2211001|             1|Centro-Norte Piau...|                 2|           Teresina|                  3|                       1|                          1|FUNDACAO UNIVERSI...|         14054|     5|UNIVERSIDADE FEDE...|        UFPI|Campus Universit�...|                   s/n|                    SG - 07|              Ininga|  64049550|        1041|                            3|                            18|                          2|                          20|              26|               77|                 90|                 111|                      229|                       206|                120|                  83|                  26|                   30|                     1|                     0|                   0|                           1|                 0|                  1|                       1|                 1|                      0|                  0|        1577|      1470|           709|           761|                 0|             0|           76|           286|          1108|         1372|            1182|                 190|            98|            0|            27|            156|            280|            286|            197|            149|            149|              226|             110|             42|            204|                0|                 2|            1112|         1470|            0|                        0|   2111801|         102559|CAMPUS MINISTRO P...|\n",
       "|        2021|      Sudeste|            3|     Minas Gerais|       MG|       31|      Ouro Preto|         3146107|             0|Metropolitana de ...|                 7|         Ouro Preto|                 33|                       1|                          1|UNIVERSIDADE FEDE...|             6|     6|UNIVERSIDADE FEDE...|        UFOP|Rua Diogo de Vasc...|                   122|                          -|              Centro|  35400000|         715|                            4|                            23|                          3|                          14|              23|               56|                 42|                  84|                       93|                       121|                115|                  88|                  29|                   20|                     1|                     0|                   1|                           1|                 0|                  0|                       0|                 1|                      0|              28762|         928|       846|           332|           514|                 0|             2|           16|            82|           746|          839|             790|                  49|             7|            0|             3|             67|            194|            199|            117|             97|             93|               76|             402|             25|            146|                4|                 1|             268|          844|            2|                        3|   2111801|            664|            Reitoria|\n",
       "|        2021|      Sudeste|            3|        S�o Paulo|       SP|       35|      S�o Carlos|         3548906|             0|          Araraquara|                 5|         S�o Carlos|                 25|                       1|                          1|FUNDACAO UNIVERSI...|          1302|     7|UNIVERSIDADE FEDE...|      UFSCAR|Via Washington  Luis|                Km 235|                       S/N�|          Monjolinho|  13565905|         968|                           17|                            22|                          9|                          12|               9|               48|                 79|                 106|                      164|                       152|                139|                 103|                  61|                   47|                     1|                     0|                   0|                           1|                 0|                  1|                       1|                 1|                  23596|              20419|        1339|      1339|           602|           737|                 0|             1|            3|            50|          1285|         1284|            1258|                  26|            55|            0|             3|             60|            199|            282|            212|            197|            172|              214|             767|             13|             69|               27|                 2|             461|         1310|           29|                        8|   2111801|        1006610|        Unidade SEDE|\n",
       "|        2021|      Sudeste|            3|     Minas Gerais|       MG|       31|          Vi�osa|         3171303|             0|        Zona da Mata|                12|             Vi�osa|                 62|                       1|                          1|UNIVERSIDADE FEDE...|         15588|     8|UNIVERSIDADE FEDE...|         UFV|      Av. P.H. Rolfs|                   s/n|       Campus Universit�rio|Campus Universit�rio|  36570000|        2001|                            7|                           111|                          1|                          29|              23|              307|                 73|                 160|                      319|                       492|                185|                 178|                  69|                   47|                     1|                     0|                   1|                           1|                 0|                  1|                       0|                 1|                      0|              79733|        1292|      1292|           518|           774|                 0|            17|           24|           128|          1123|         1251|            1159|                  92|            41|            0|            32|            130|            238|            285|            154|            122|            176|              155|             398|             24|             96|                4|                 0|             770|         1267|           25|                        0|   2111801|        1005394|Universidade Fede...|\n",
       "|        2021|          Sul|            4|           Paran�|       PR|       41|        Londrina|         4113700|             0|Norte Central Par...|                 3|           Londrina|                 11|                       1|                          2|SECRET DE EST CIE...|            37|     9|UNIVERSIDADE ESTA...|         UEL|Rodovia Celso Gar...|                     -|       UEL - CAMPUS UNIV...|Campus Universit�rio|  86057970|         756|                            0|                             5|                          1|                           5|              57|               68|                149|                 169|                      124|                        86|                 29|                  39|                   8|                   16|                     1|                     0|                   1|                           1|                 0|                  1|                       1|                 1|                      0|               2568|        1820|      1792|           932|           860|                 0|            17|           65|           359|          1351|         1325|             970|                 355|           462|            5|            48|            185|            266|            272|            244|            267|            262|              248|            1458|             24|            132|               87|                 2|              89|         1775|           17|                       55|   2111801|         657675|UEL - CAMPUS UNIV...|\n",
       "|        2021|          Sul|            4|           Paran�|       PR|       41|        Curitiba|         4106902|             1|Metropolitana de ...|                10|           Curitiba|                 37|                       1|                          5|ASSOCIACAO PARANA...|            10|    10|PONTIF�CIA UNIVER...|       PUCPR|Rua Imaculada Con...|                  1155|                          -|         Prado Velho|  80215901|        1548|                            0|                             0|                         45|                          41|             276|              204|                410|                 194|                      157|                        99|                 30|                  28|                  30|                   34|                     1|                     0|                   1|                           1|                 0|                  1|                       1|                 1|                  55040|              25036|        1349|      1349|           575|           774|                 0|             1|           59|           582|           707|          448|               0|                 448|           655|          246|            31|            120|            191|            229|            229|            212|            151|              186|             680|             15|             40|               28|                 1|             585|         1343|            6|                       11|   2111801|         657676|PUCPR - Campus Cu...|\n",
       "|        2021|     Nordeste|            2|       Pernambuco|       PE|       26|          Recife|         2611606|             1|Metropolitana de ...|                 5|             Recife|                 17|                       1|                          5|ASSOCIACAO ANTONI...|            14|    11|UNIVERSIDADE CAT�...|      UNICAP|     Rua do Pr�ncipe|                   526|       Campus Universit�...|           Boa Vista|  50050900|         406|                            1|                             8|                          0|                           8|              46|               75|                 96|                  70|                       43|                        34|                  7|                  16|                   1|                    1|                     1|                     0|                   0|                           0|                 0|                  1|                       1|                 1|                    174|              13734|         517|       510|           232|           278|                 0|             0|           39|           200|           271|          172|               0|                 172|           123|          215|             7|             49|             65|             60|             75|             63|             69|              122|             348|             18|            142|                0|                 0|               2|          507|            3|                        1|   2111801|         657677|        POLO NA SEDE|\n",
       "|        2021|          Sul|            4|Rio Grande do Sul|       RS|       43|      Rio Grande|         4315602|             0|Sudeste Rio-grand...|                 7|    Litoral Lagunar|                 35|                       1|                          1|UNIVERSIDADE FEDE...|         15596|    12|UNIVERSIDADE FEDE...|        FURG|      Avenida It�lia|                   S/N|                       Km 8|           Carreiros|  96203900|        1151|                            0|                            13|                          2|                           5|              57|               80|                 96|                 105|                      241|                       142|                174|                 106|                  92|                   38|                     1|                     0|                   1|                           1|                 0|                  1|                       1|                 1|                  49331|              91349|         986|       970|           479|           491|                 0|             6|           13|           128|           823|          948|             816|                 132|            22|            0|            20|             72|            183|            212|            148|            124|            101|              110|             796|             21|             69|                7|                 5|              72|          935|           35|                        9|   2111801|        1045632|CAMPUS CARREIROS ...|\n",
       "|        2021|          Sul|            4|Rio Grande do Sul|       RS|       43|   Caxias do Sul|         4305108|             0|Nordeste Rio-gran...|                 2|      Caxias do Sul|                 16|                       1|                          5|FUNDACAO UNIVERSI...|            13|    13|UNIVERSIDADE DE C...|         UCS|Rua Francisco Get...|                  1130|                    Bloco A|          Petr�polis|  95070560|         920|                            8|                            17|                         13|                          14|             224|              184|                219|                  77|                       96|                        29|                 20|                  11|                   6|                    2|                     1|                     0|                   1|                           1|                 1|                  1|                       1|                 1|                      0|              13000|         796|       788|           409|           379|                 0|             0|           94|           369|           325|          266|               1|                 265|           265|          257|             8|             65|            109|            137|            135|            121|             95|              118|             747|              2|              7|                0|                 0|              32|          788|            0|                       10|   2111801|        1003692|         CAMPUS SEDE|\n",
       "|        2021|          Sul|            4|Rio Grande do Sul|       RS|       43|    S�o Leopoldo|         4318705|             0|Metropolitana de ...|                 5|       Porto Alegre|                 26|                       1|                          5|ASSOCIACAO ANTONI...|            14|    14|UNIVERSIDADE DO V...|    UNISINOS|    Avenida Unisinos|                   950|                          -|          Cristo Rei|  93022750|         895|                            1|                             1|                          1|                           2|             250|              260|                149|                  70|                       65|                        27|                 23|                  30|                   7|                    9|                     1|                     0|                   1|                           1|                 0|                  1|                       0|                 1|                  32353|              25796|         917|       902|           431|           471|                 0|             0|           36|           329|           537|          299|               3|                 296|           460|          143|             8|             79|            128|            210|            139|            115|             96|              127|             870|             11|             13|                1|                 0|               7|          876|           26|                        5|   2111801|         657678|        Unidade SEDE|\n",
       "|        2021|      Sudeste|            3|   Rio de Janeiro|       RJ|       33|      Petr�polis|         3303906|             0|Metropolitana do ...|                 6|            Serrana|                 15|                       1|                          5|ASSOCIACAO FACULD...|         15046|    15|UNIVERSIDADE CAT�...|         UCP|Rua Benjamin Cons...|                   213|                          -|              Centro|  25610130|         227|                            3|                            23|                          7|                          21|              54|               55|                 28|                  22|                        6|                         3|                  3|                   2|                   0|                    0|                     1|                     0|                   0|                           0|                 1|                  1|                       0|                 1|                      0|              24062|         165|       165|            63|           102|                 0|             1|            4|            93|            67|           57|               0|                  57|            47|           61|             0|             10|             26|             32|             25|             19|             23|               30|             138|              3|             14|                0|                 0|              10|          162|            3|                        3|   2111801|         657679|        Unidade SEDE|\n",
       "|        2021|      Sudeste|            3|     Minas Gerais|       MG|       31|      Uberl�ndia|         3170206|             0|Tri�ngulo Mineiro...|                 5|         Uberl�ndia|                 18|                       1|                          1|UNIVERSIDADE FEDE...|          9140|    17|UNIVERSIDADE FEDE...|         UFU|Avenida Jo�o Nave...|                  2121|                          -|        Santa M�nica|  38400902|        1918|                            6|                            39|                          6|                          17|             207|              190|                131|                 146|                      348|                       313|                211|                 162|                  88|                   54|                     1|                     0|                   1|                           1|                 1|                  1|                       1|                 1|                    263|             229074|        1897|      1859|           808|          1051|                 0|            10|           21|           126|          1702|         1836|            1679|                 157|            23|            0|            25|            128|            322|            397|            339|            244|            210|              194|            1451|             44|            216|               38|                 1|             109|         1830|           29|                       12|   2111801|        1005524|Campus Santa M�ni...|\n",
       "|        2021|          Sul|            4|Rio Grande do Sul|       RS|       43|         Pelotas|         4314407|             0|Sudeste Rio-grand...|                 7|            Pelotas|                 33|                       1|                          5|ASSOCIACAO PELOTE...|            18|    18|UNIVERSIDADE CAT�...|       UCPEL|  Rua F�lix da Cunha|                   412|                          -|              Centro|  96010000|         265|                            2|                             3|                          1|                           2|              31|               25|                 80|                  42|                       38|                        19|                 12|                   3|                   5|                    2|                     1|                     0|                   0|                           1|                 0|                  1|                       0|                 1|                     42|              11000|         326|       326|           183|           143|                 0|             1|          120|           106|            99|          103|               0|                 103|           172|           51|            11|             61|             70|             52|             36|             26|             26|               44|             322|              1|              3|                0|                 0|               0|          324|            2|                        0|   2111801|            608|               UCPel|\n",
       "|        2021|      Sudeste|            3|        S�o Paulo|       SP|       35|        Campinas|         3509502|             0|            Campinas|                 7|           Campinas|                 32|                       1|                          5|SOCIEDADE CAMPINE...|            19|    19|PONTIF�CIA UNIVER...|PUC-CAMPINAS|Rua Professor Dou...|                  1516|       Gleba 1 - QT. 064...|Parque Rural Faze...|  13087571|         644|                            5|                             7|                          7|                           7|             144|              124|                183|                  99|                       40|                        16|                  2|                   8|                   1|                    1|                     1|                     0|                   1|                           1|                 1|                  1|                       1|                 1|                  10762|                399|         753|       741|           352|           389|                 0|             0|          104|           219|           418|          251|               0|                 251|           145|          345|             7|             39|             79|            116|             97|            112|             86|              205|             285|              3|             14|                7|                 1|             431|          731|           10|                        2|   2111801|         657681|        Unidade SEDE|\n",
       "|        2021|          Sul|            4|Rio Grande do Sul|       RS|       43|     Passo Fundo|         4314100|             0|Noroeste Rio-gran...|                 1|        Passo Fundo|                 10|                       1|                          5|FUNDACAO UNIVERSI...|            20|    20|UNIVERSIDADE DE P...|         UPF|Upf Campus Passo ...|                  s/n�|            BR 285 - KM 171|            S�o Jos�|  99001970|         854|                           22|                            17|                         33|                          11|             208|              178|                114|                  86|                      109|                        44|                 20|                   9|                   0|                    3|                     1|                     0|                   1|                           1|                 0|                  1|                       1|                 1|                     30|             235000|         717|       690|           328|           362|                 0|             0|          121|           276|           293|          243|               0|                 243|           246|          201|            12|             76|            109|            112|            123|             95|             91|               72|             683|              1|              3|                0|                 0|               3|          682|            8|                        9|   2111801|         657682|        UPF Campus I|\n",
       "|        2021|          Sul|            4|Rio Grande do Sul|       RS|       43|    Porto Alegre|         4314902|             1|Metropolitana de ...|                 5|       Porto Alegre|                 26|                       1|                          5|UNIAO BRASILEIRA ...|            21|    21|PONTIF�CIA UNIVER...|       PUCRS|        Av. Ipiranga|                  6681|                          -|            Partenon|  90619900|        1824|                           18|                            48|                         55|                          66|             335|              571|                258|                 235|                       93|                        55|                 30|                  25|                  18|                   17|                     1|                     0|                   1|                           1|                 1|                  1|                       1|                 1|                     19|             604969|         905|       905|           355|           550|                 0|             0|           19|           216|           670|          359|              99|                 260|           352|          194|             1|             42|             93|            133|            153|            130|            143|              210|             875|              6|             12|                3|                 0|               9|          895|           10|                        7|   2111801|        1006454|CENTRAL - PORTO A...|\n",
       "+------------+-------------+-------------+-----------------+---------+---------+----------------+----------------+--------------+--------------------+------------------+-------------------+-------------------+------------------------+---------------------------+--------------------+--------------+------+--------------------+------------+--------------------+----------------------+---------------------------+--------------------+----------+------------+-----------------------------+------------------------------+---------------------------+----------------------------+----------------+-----------------+-------------------+--------------------+-------------------------+--------------------------+-------------------+--------------------+--------------------+---------------------+----------------------+----------------------+--------------------+----------------------------+------------------+-------------------+------------------------+------------------+-----------------------+-------------------+------------+----------+--------------+--------------+------------------+--------------+-------------+--------------+--------------+-------------+----------------+--------------------+--------------+-------------+--------------+---------------+---------------+---------------+---------------+---------------+---------------+-----------------+----------------+---------------+---------------+-----------------+------------------+----------------+-------------+-------------+-------------------------+----------+---------------+--------------------+\n",
       "only showing top 20 rows"
      ]
     },
     "execution_count": 9,
     "metadata": {},
     "output_type": "execute_result"
    }
   ],
   "source": [
    "df"
   ]
  },
  {
   "cell_type": "markdown",
   "id": "8e60df46-ca07-4570-9eef-29ee717778a9",
   "metadata": {},
   "source": [
    "1- Olhando para o estado de Minas Gerais, quantos municípios têm informações presentes\n",
    "na base de dados?"
   ]
  },
  {
   "cell_type": "code",
   "execution_count": 10,
   "id": "159cdacb-16cb-4a78-9c7a-49de2cb00c50",
   "metadata": {
    "tags": []
   },
   "outputs": [
    {
     "data": {
      "text/html": [
       "<table border='1'>\n",
       "<tr><th>total_municipios</th></tr>\n",
       "<tr><td>304</td></tr>\n",
       "</table>\n"
      ],
      "text/plain": [
       "+----------------+\n",
       "|total_municipios|\n",
       "+----------------+\n",
       "|             304|\n",
       "+----------------+"
      ]
     },
     "execution_count": 10,
     "metadata": {},
     "output_type": "execute_result"
    }
   ],
   "source": [
    "spark.sql('''\n",
    "    SELECT\n",
    "        COUNT(co_municipio_ies) AS total_municipios\n",
    "    FROM microdados_ies\n",
    "    WHERE sg_uf_ies = 'MG'\n",
    "\n",
    "''')"
   ]
  },
  {
   "cell_type": "code",
   "execution_count": 11,
   "id": "1676ad16-980f-4d44-9e4e-b6c4a04eada1",
   "metadata": {
    "tags": []
   },
   "outputs": [
    {
     "data": {
      "text/html": [
       "<table border='1'>\n",
       "<tr><th>total_municipios</th></tr>\n",
       "<tr><td>304</td></tr>\n",
       "</table>\n"
      ],
      "text/plain": [
       "+----------------+\n",
       "|total_municipios|\n",
       "+----------------+\n",
       "|             304|\n",
       "+----------------+"
      ]
     },
     "execution_count": 11,
     "metadata": {},
     "output_type": "execute_result"
    }
   ],
   "source": [
    "(\n",
    "    df\n",
    "    .where(\"sg_uf_ies == 'MG'\")\n",
    "    .agg(\n",
    "        fn.count(\"co_municipio_ies\").alias(\"total_municipios\")\n",
    "    )\n",
    ")"
   ]
  },
  {
   "cell_type": "markdown",
   "id": "97e7b5f6-4931-4421-b4ac-dea5d0aca750",
   "metadata": {},
   "source": [
    "2. Quantos professores doutores existem em cada cidade de Minas Gerais presente na\n",
    "base de dados ?"
   ]
  },
  {
   "cell_type": "code",
   "execution_count": 17,
   "id": "1e74ad1b-6531-4a98-b729-b67c3b5de8d6",
   "metadata": {
    "tags": []
   },
   "outputs": [
    {
     "data": {
      "text/html": [
       "<table border='1'>\n",
       "<tr><th>co_municipio_ies</th><th>no_municipio_ies</th><th>total_docentes_doutores</th></tr>\n",
       "<tr><td>3106200</td><td>Belo Horizonte</td><td>6615</td></tr>\n",
       "<tr><td>3170206</td><td>Uberl�ndia</td><td>1939</td></tr>\n",
       "<tr><td>3136702</td><td>Juiz de Fora</td><td>1915</td></tr>\n",
       "<tr><td>3171303</td><td>Vi�osa</td><td>1185</td></tr>\n",
       "<tr><td>3143302</td><td>Montes Claros</td><td>925</td></tr>\n",
       "<tr><td>3170107</td><td>Uberaba</td><td>891</td></tr>\n",
       "<tr><td>3138203</td><td>Lavras</td><td>812</td></tr>\n",
       "<tr><td>3162500</td><td>S�o Jo�o del Rei</td><td>753</td></tr>\n",
       "<tr><td>3146107</td><td>Ouro Preto</td><td>746</td></tr>\n",
       "<tr><td>3121605</td><td>Diamantina</td><td>673</td></tr>\n",
       "<tr><td>3101607</td><td>Alfenas</td><td>661</td></tr>\n",
       "<tr><td>3152501</td><td>Pouso Alegre</td><td>499</td></tr>\n",
       "<tr><td>3132404</td><td>Itajub�</td><td>304</td></tr>\n",
       "<tr><td>3118601</td><td>Contagem</td><td>219</td></tr>\n",
       "<tr><td>3167202</td><td>Sete Lagoas</td><td>201</td></tr>\n",
       "<tr><td>3106705</td><td>Betim</td><td>192</td></tr>\n",
       "<tr><td>3122306</td><td>Divin�polis</td><td>133</td></tr>\n",
       "<tr><td>3107406</td><td>Bom Despacho</td><td>129</td></tr>\n",
       "<tr><td>3127701</td><td>Governador Valadares</td><td>110</td></tr>\n",
       "<tr><td>3131307</td><td>Ipatinga</td><td>107</td></tr>\n",
       "</table>\n",
       "only showing top 20 rows\n"
      ],
      "text/plain": [
       "+----------------+--------------------+-----------------------+\n",
       "|co_municipio_ies|    no_municipio_ies|total_docentes_doutores|\n",
       "+----------------+--------------------+-----------------------+\n",
       "|         3106200|      Belo Horizonte|                   6615|\n",
       "|         3170206|          Uberl�ndia|                   1939|\n",
       "|         3136702|        Juiz de Fora|                   1915|\n",
       "|         3171303|              Vi�osa|                   1185|\n",
       "|         3143302|       Montes Claros|                    925|\n",
       "|         3170107|             Uberaba|                    891|\n",
       "|         3138203|              Lavras|                    812|\n",
       "|         3162500|    S�o Jo�o del Rei|                    753|\n",
       "|         3146107|          Ouro Preto|                    746|\n",
       "|         3121605|          Diamantina|                    673|\n",
       "|         3101607|             Alfenas|                    661|\n",
       "|         3152501|        Pouso Alegre|                    499|\n",
       "|         3132404|             Itajub�|                    304|\n",
       "|         3118601|            Contagem|                    219|\n",
       "|         3167202|         Sete Lagoas|                    201|\n",
       "|         3106705|               Betim|                    192|\n",
       "|         3122306|         Divin�polis|                    133|\n",
       "|         3107406|        Bom Despacho|                    129|\n",
       "|         3127701|Governador Valadares|                    110|\n",
       "|         3131307|            Ipatinga|                    107|\n",
       "+----------------+--------------------+-----------------------+\n",
       "only showing top 20 rows"
      ]
     },
     "execution_count": 17,
     "metadata": {},
     "output_type": "execute_result"
    }
   ],
   "source": [
    "spark.sql('''\n",
    "     SELECT\n",
    "         co_municipio_ies,\n",
    "         no_municipio_ies,\n",
    "        SUM(qt_doc_ex_dout) AS total_docentes_doutores\n",
    "    FROM microdados_ies\n",
    "    WHERE sg_uf_ies = 'MG'\n",
    "    GROUP BY co_municipio_ies, no_municipio_ies\n",
    "    ORDER BY total_docentes_doutores DESC\n",
    "    \n",
    "''')"
   ]
  },
  {
   "cell_type": "code",
   "execution_count": 29,
   "id": "2449e297-8b8d-4a4c-b646-b0170fa67e01",
   "metadata": {
    "tags": []
   },
   "outputs": [
    {
     "data": {
      "text/html": [
       "<table border='1'>\n",
       "<tr><th>co_municipio_ies</th><th>no_municipio_ies</th><th>total_docentes_doutores</th></tr>\n",
       "<tr><td>3106200</td><td>Belo Horizonte</td><td>6615</td></tr>\n",
       "<tr><td>3170206</td><td>Uberl�ndia</td><td>1939</td></tr>\n",
       "<tr><td>3136702</td><td>Juiz de Fora</td><td>1915</td></tr>\n",
       "<tr><td>3171303</td><td>Vi�osa</td><td>1185</td></tr>\n",
       "<tr><td>3143302</td><td>Montes Claros</td><td>925</td></tr>\n",
       "<tr><td>3170107</td><td>Uberaba</td><td>891</td></tr>\n",
       "<tr><td>3138203</td><td>Lavras</td><td>812</td></tr>\n",
       "<tr><td>3162500</td><td>S�o Jo�o del Rei</td><td>753</td></tr>\n",
       "<tr><td>3146107</td><td>Ouro Preto</td><td>746</td></tr>\n",
       "<tr><td>3121605</td><td>Diamantina</td><td>673</td></tr>\n",
       "<tr><td>3101607</td><td>Alfenas</td><td>661</td></tr>\n",
       "<tr><td>3152501</td><td>Pouso Alegre</td><td>499</td></tr>\n",
       "<tr><td>3132404</td><td>Itajub�</td><td>304</td></tr>\n",
       "<tr><td>3118601</td><td>Contagem</td><td>219</td></tr>\n",
       "<tr><td>3167202</td><td>Sete Lagoas</td><td>201</td></tr>\n",
       "<tr><td>3106705</td><td>Betim</td><td>192</td></tr>\n",
       "<tr><td>3122306</td><td>Divin�polis</td><td>133</td></tr>\n",
       "<tr><td>3107406</td><td>Bom Despacho</td><td>129</td></tr>\n",
       "<tr><td>3127701</td><td>Governador Valadares</td><td>110</td></tr>\n",
       "<tr><td>3131307</td><td>Ipatinga</td><td>107</td></tr>\n",
       "</table>\n",
       "only showing top 20 rows\n"
      ],
      "text/plain": [
       "+----------------+--------------------+-----------------------+\n",
       "|co_municipio_ies|    no_municipio_ies|total_docentes_doutores|\n",
       "+----------------+--------------------+-----------------------+\n",
       "|         3106200|      Belo Horizonte|                   6615|\n",
       "|         3170206|          Uberl�ndia|                   1939|\n",
       "|         3136702|        Juiz de Fora|                   1915|\n",
       "|         3171303|              Vi�osa|                   1185|\n",
       "|         3143302|       Montes Claros|                    925|\n",
       "|         3170107|             Uberaba|                    891|\n",
       "|         3138203|              Lavras|                    812|\n",
       "|         3162500|    S�o Jo�o del Rei|                    753|\n",
       "|         3146107|          Ouro Preto|                    746|\n",
       "|         3121605|          Diamantina|                    673|\n",
       "|         3101607|             Alfenas|                    661|\n",
       "|         3152501|        Pouso Alegre|                    499|\n",
       "|         3132404|             Itajub�|                    304|\n",
       "|         3118601|            Contagem|                    219|\n",
       "|         3167202|         Sete Lagoas|                    201|\n",
       "|         3106705|               Betim|                    192|\n",
       "|         3122306|         Divin�polis|                    133|\n",
       "|         3107406|        Bom Despacho|                    129|\n",
       "|         3127701|Governador Valadares|                    110|\n",
       "|         3131307|            Ipatinga|                    107|\n",
       "+----------------+--------------------+-----------------------+\n",
       "only showing top 20 rows"
      ]
     },
     "execution_count": 29,
     "metadata": {},
     "output_type": "execute_result"
    }
   ],
   "source": [
    "(\n",
    "    df\n",
    "    .where(\"sg_uf_ies = 'MG'\")\n",
    "    .groupby(\"co_municipio_ies\",\"no_municipio_ies\")\n",
    "    .agg\n",
    "    (\n",
    "        fn.sum(\"qt_doc_ex_dout\").alias(\"total_docentes_doutores\")\n",
    "    )\n",
    "    .orderBy(\"total_docentes_doutores\", ascending = False)\n",
    "\n",
    ")"
   ]
  },
  {
   "cell_type": "markdown",
   "id": "8d0d4769-64ed-47fc-9686-b5a2e5e1cbf4",
   "metadata": {},
   "source": [
    "3. Qual a quantidade de docentes com deficiência no estado do Paraná?"
   ]
  },
  {
   "cell_type": "code",
   "execution_count": 30,
   "id": "25de8607-7f9c-4db6-8e9a-37f5e3dfb782",
   "metadata": {
    "tags": []
   },
   "outputs": [
    {
     "data": {
      "text/html": [
       "<table border='1'>\n",
       "<tr><th>total_docentes_PCD</th></tr>\n",
       "<tr><td>160</td></tr>\n",
       "</table>\n"
      ],
      "text/plain": [
       "+------------------+\n",
       "|total_docentes_PCD|\n",
       "+------------------+\n",
       "|               160|\n",
       "+------------------+"
      ]
     },
     "execution_count": 30,
     "metadata": {},
     "output_type": "execute_result"
    }
   ],
   "source": [
    "spark.sql(\"\"\"\n",
    "    SELECT\n",
    "        SUM(qt_doc_ex_com_deficiencia) as total_docentes_PCD\n",
    "    FROM microdados_ies\n",
    "    WHERE sg_uf_ies = 'PR'\n",
    "\n",
    "\n",
    "\"\"\")"
   ]
  },
  {
   "cell_type": "code",
   "execution_count": 31,
   "id": "02c0adcf-f07a-465a-becc-6144d0dcc521",
   "metadata": {
    "tags": []
   },
   "outputs": [
    {
     "data": {
      "text/html": [
       "<table border='1'>\n",
       "<tr><th>total_docentes_PCD</th></tr>\n",
       "<tr><td>160</td></tr>\n",
       "</table>\n"
      ],
      "text/plain": [
       "+------------------+\n",
       "|total_docentes_PCD|\n",
       "+------------------+\n",
       "|               160|\n",
       "+------------------+"
      ]
     },
     "execution_count": 31,
     "metadata": {},
     "output_type": "execute_result"
    }
   ],
   "source": [
    "(\n",
    "    df\n",
    "    .where(\"sg_uf_ies = 'PR'\")\n",
    "    .agg\n",
    "    (\n",
    "        fn.sum('qt_doc_ex_com_deficiencia').alias('total_docentes_PCD')\n",
    "    )\n",
    ")"
   ]
  },
  {
   "cell_type": "code",
   "execution_count": null,
   "id": "f2f4b74e-e823-420f-99ec-3749556e2086",
   "metadata": {},
   "outputs": [],
   "source": []
  }
 ],
 "metadata": {
  "kernelspec": {
   "display_name": "Python 3 (ipykernel)",
   "language": "python",
   "name": "python3"
  },
  "language_info": {
   "codemirror_mode": {
    "name": "ipython",
    "version": 3
   },
   "file_extension": ".py",
   "mimetype": "text/x-python",
   "name": "python",
   "nbconvert_exporter": "python",
   "pygments_lexer": "ipython3",
   "version": "3.10.10"
  },
  "toc-autonumbering": false,
  "toc-showmarkdowntxt": false
 },
 "nbformat": 4,
 "nbformat_minor": 5
}
